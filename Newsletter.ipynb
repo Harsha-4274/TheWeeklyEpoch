{
  "nbformat": 4,
  "nbformat_minor": 0,
  "metadata": {
    "colab": {
      "provenance": []
    },
    "kernelspec": {
      "name": "python3",
      "display_name": "Python 3"
    },
    "language_info": {
      "name": "python"
    }
  },
  "cells": [
    {
      "cell_type": "markdown",
      "source": [
        "#Scraping and then Writing to file"
      ],
      "metadata": {
        "id": "HUb-7YT9FVCK"
      }
    },
    {
      "cell_type": "markdown",
      "source": [
        "https://www.artificialintelligence-news.com/"
      ],
      "metadata": {
        "id": "cz5JVpNPgKKh"
      }
    },
    {
      "cell_type": "code",
      "source": [
        "import requests\n",
        "from bs4 import BeautifulSoup\n",
        "\n",
        "url = \"https://www.artificialintelligence-news.com/\"\n",
        "response = requests.get(url)\n",
        "html_content = response.text\n",
        "\n",
        "soup = BeautifulSoup(html_content, 'html.parser')\n",
        "\n",
        "h3_tags = soup.find_all('h3')\n",
        "p_tags = soup.find_all('p')\n",
        "\n",
        "h_contents = [tag.a.get_text(strip=True) for tag in h3_tags[4:20] if tag.a]\n",
        "p_contents = [tag.string for tag in p_tags[3:49:3]]\n",
        "\n",
        "with open('news.html', 'w') as file:\n",
        "    file.write('<html>\\n')\n",
        "    file.write('<body style=\"background-color: DodgerBlue;\">\\n<img src=\"https://imgur.com/a/6BuuHKk\" alt=\"\">\\n')\n",
        "    file.write('<h1 style=\"text-align: center;\">The Weekly Epoch</h1>\\n')\n",
        "    for i in range(7):\n",
        "        file.write(f'<h3>{h_contents[i]}</h3>\\n')\n",
        "        file.write(f'<p>{p_contents[i]}</p>\\n')\n",
        "        file.write('<br>\\n')\n",
        "\n",
        "    file.write('</body>\\n')\n",
        "    file.write('</html>')\n",
        "\n",
        "print(h_contents)\n",
        "print(p_contents)"
      ],
      "metadata": {
        "id": "gvRiCmy_ZYPl"
      },
      "execution_count": 36,
      "outputs": []
    },
    {
      "cell_type": "markdown",
      "source": [
        "https://news.mit.edu/topic/artificial-intelligence2 (better)"
      ],
      "metadata": {
        "id": "GbsDMSfxgLhp"
      }
    },
    {
      "cell_type": "code",
      "source": [
        "import requests\n",
        "from bs4 import BeautifulSoup\n",
        "\n",
        "url = \"https://news.mit.edu/topic/artificial-intelligence2\"\n",
        "response = requests.get(url)\n",
        "html_content = response.text\n",
        "\n",
        "soup = BeautifulSoup(html_content, 'html.parser')\n",
        "\n",
        "h3_tags = soup.find_all('h3')\n",
        "p_tags = soup.find_all('p')\n",
        "\n",
        "h_contents = [tag.a.get_text(strip=True) for tag in h3_tags[4:16] if tag.a]\n",
        "p_contents = [tag.span.get_text(strip=True) for tag in p_tags[2:14] if tag.span]\n",
        "\n",
        "with open('news.html', 'w') as file:\n",
        "    file.write('<html>\\n')\n",
        "    file.write('<body style=\"background-color: DodgerBlue;\">\\n<img src=\"https://imgur.com/a/6BuuHKk\" alt=\"\">\\n')\n",
        "    file.write('<h1 style=\"text-align: center;\">The Weekly Epoch</h1>\\n')\n",
        "    for i in range(7):\n",
        "        file.write(f'<h3>{h_contents[i]}</h3>\\n')\n",
        "        file.write(f'<p>{p_contents[i]}</p>\\n')\n",
        "        file.write('<br>\\n')\n",
        "\n",
        "    file.write('</body>\\n')\n",
        "    file.write('</html>')\n",
        "print(h_contents)\n",
        "print(p_contents)\n"
      ],
      "metadata": {
        "colab": {
          "base_uri": "https://localhost:8080/"
        },
        "id": "HkErP_bmgN1U",
        "outputId": "60eb742b-f86d-4b37-92c7-58ac9bd769db"
      },
      "execution_count": 42,
      "outputs": [
        {
          "output_type": "stream",
          "name": "stdout",
          "text": [
            "['Startup accelerates progress toward light-speed computing', 'Dealing with the limitations of our noisy world', 'Brain surgery training from an avatar', '3 Questions: Shaping the future of work in an age of AI', 'Sadhana Lolla named 2024 Gates Cambridge Scholar', 'New AI model could streamline operations in a robotic warehouse', '“We offer another place for knowledge”', 'Generative AI for smart grid modeling', 'Putting AI into the hands of people with problems to solve', 'New model identifies drugs that shouldn’t be taken together', 'This tiny, tamper-proof ID tag can authenticate almost anything', 'Using AI to discover stiff and tough microstructures']\n",
            "['Lightmatter, founded by three MIT alumni, is using photonic technologies to reinvent how chips communicate and calculate.', 'Tamara Broderick uses statistical approaches to understand and quantify the uncertainty that can affect study results.', 'MIT.nano Immersion Lab works with AR/VR startup to create transcontinental medical instruction.', 'Daron Acemoglu, David Autor, and Simon Johnson, faculty co-directors of the new MIT Shaping the Future of Work Initiative, describe why the work matters and what they hope to achieve.']\n"
          ]
        }
      ]
    },
    {
      "cell_type": "markdown",
      "source": [
        "#Email Sending part 😸"
      ],
      "metadata": {
        "id": "CZT6s2FAFGwh"
      }
    },
    {
      "cell_type": "code",
      "execution_count": 38,
      "metadata": {
        "id": "S7PdVarpDFqB"
      },
      "outputs": [],
      "source": [
        "import smtplib\n",
        "from email.mime.multipart import MIMEMultipart\n",
        "from email.mime.text import MIMEText\n",
        "from email.mime.image import MIMEImage\n",
        "from email.mime.application import MIMEApplication\n",
        "from email import encoders\n",
        "\n",
        "def send_email(to_email, subject, body, attachment_path=None, attachment_type=None):\n",
        "    sender_email = \"sriharsha.spam@gmail.com\"\n",
        "    sender_password = \"ginh ofoi vscm pjyh\"\n",
        "\n",
        "    message = MIMEMultipart()\n",
        "    message['From'] = sender_email\n",
        "    message['To'] = to_email\n",
        "    message['Subject'] = subject\n",
        "\n",
        "\n",
        "    message.attach(MIMEText(body, 'html'))\n",
        "\n",
        "\n",
        "    if attachment_path and attachment_type:\n",
        "        with open(attachment_path, 'rb') as file:\n",
        "            if attachment_type == \"photo\":\n",
        "                attachment = MIMEImage(file.read(), name=\"photo.jpg\")\n",
        "            elif attachment_type == \"pdf\":\n",
        "                attachment = MIMEApplication(file.read(), name=\"document.pdf\")\n",
        "            else:\n",
        "                print(\"Invalid attachment type.\")\n",
        "                return\n",
        "\n",
        "            attachment.add_header('Content-Disposition', 'attachment', filename=attachment_path)\n",
        "            message.attach(attachment)\n",
        "\n",
        "\n",
        "    with smtplib.SMTP('smtp.gmail.com', 587) as server:\n",
        "        server.starttls()\n",
        "        server.login(sender_email, sender_password)\n",
        "        server.sendmail(sender_email, to_email, message.as_string())\n",
        "\n",
        "\n",
        "emails = [\"mugiwaradoctortonychopper@gmail.com\"]\n",
        "for email in emails:\n",
        "    subject = \"Woohooooooo Here's the sample version of it\"\n",
        "\n",
        "\n",
        "    with open('news.html', 'r') as file:\n",
        "        html_content = file.read()\n",
        "\n",
        "    body = html_content\n",
        "\n",
        "    attachment_path = \"\"\n",
        "    attachment_type = \"\"\n",
        "\n",
        "    send_email(email, subject, body, attachment_path, attachment_type)\n"
      ]
    }
  ]
}